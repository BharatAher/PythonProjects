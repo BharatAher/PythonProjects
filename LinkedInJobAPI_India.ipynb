{
 "cells": [
  {
   "cell_type": "code",
   "execution_count": 42,
   "id": "0ddd4774-ee29-4b29-91fd-31e4518724ab",
   "metadata": {},
   "outputs": [],
   "source": [
    "#Import Packages\n",
    "from selenium import webdriver\n",
    "import time\n",
    "import pandas as pd\n",
    "import os"
   ]
  },
  {
   "cell_type": "code",
   "execution_count": 43,
   "id": "74da6141-9a24-458c-8ee6-fbe24aa66e8c",
   "metadata": {},
   "outputs": [],
   "source": [
    "#Import Packages\n",
    "\n",
    "from selenium.webdriver.support.select import Select\n",
    "from selenium.webdriver.support.ui import WebDriverWait\n",
    "from selenium.webdriver.common.by import By\n",
    "from selenium.webdriver.support import expected_conditions as EC"
   ]
  },
  {
   "cell_type": "code",
   "execution_count": 44,
   "id": "538e5f98-2397-4836-afda-d0ea39e327b0",
   "metadata": {},
   "outputs": [
    {
     "name": "stderr",
     "output_type": "stream",
     "text": [
      "C:\\Users\\AppData\\Local\\Temp\\ipykernel_18312\\15102680.py:3: DeprecationWarning: executable_path has been deprecated, please pass in a Service object\n",
      "  driver = webdriver.Chrome(executable_path=r'C:\\\\Users\\\\Downloads\\\\chromedriver_win32\\\\chromedriver.exe')\n"
     ]
    }
   ],
   "source": [
    "#Load the web driver and get the url\n",
    "\n",
    "driver = webdriver.Chrome(executable_path=r'C:\\\\Users\\\\Downloads\\\\chromedriver_win32\\\\chromedriver.exe')\n",
    "driver.implicitly_wait(10)\n",
    "driver.get('https://in.linkedin.com/jobs/search?keywords=Data%20Analyst&location=India&locationId=&geoId=102713980&f_TPR=r86400&f_E=2&position=1&pageNum=0'\n",
    ")"
   ]
  },
  {
   "cell_type": "code",
   "execution_count": 45,
   "id": "c4c96ab7-b29d-4297-af35-47151498503c",
   "metadata": {},
   "outputs": [],
   "source": [
    "# wait for while to load the site\n",
    "wait = WebDriverWait(driver, 10)\n",
    "element = wait.until(EC.visibility_of_element_located((By.CLASS_NAME, \"results-context-header__job-count\")))"
   ]
  },
  {
   "cell_type": "code",
   "execution_count": 46,
   "id": "e1d8eea4-b604-4852-afd8-a66d582719bb",
   "metadata": {},
   "outputs": [
    {
     "data": {
      "text/plain": [
       "<selenium.webdriver.remote.webelement.WebElement (session=\"ddc9c3f2c6647d5fc147a4ae942fb40c\", element=\"741db818-6620-4100-88da-3c4deccdc3ad\")>"
      ]
     },
     "execution_count": 46,
     "metadata": {},
     "output_type": "execute_result"
    }
   ],
   "source": [
    "element"
   ]
  },
  {
   "cell_type": "code",
   "execution_count": 47,
   "id": "cf5e5a00-a10d-4c6e-a3fa-52d2763f982b",
   "metadata": {},
   "outputs": [],
   "source": [
    "# Get the text of the element\n",
    "element_text = element.text"
   ]
  },
  {
   "cell_type": "code",
   "execution_count": 48,
   "id": "3ba4a0d7-443c-494e-812c-a4e8bc603c7e",
   "metadata": {},
   "outputs": [
    {
     "data": {
      "text/plain": [
       "'1,000+'"
      ]
     },
     "execution_count": 48,
     "metadata": {},
     "output_type": "execute_result"
    }
   ],
   "source": [
    "element_text"
   ]
  },
  {
   "cell_type": "code",
   "execution_count": 49,
   "id": "8887c097-4081-4856-888f-d85d31837971",
   "metadata": {},
   "outputs": [
    {
     "name": "stdout",
     "output_type": "stream",
     "text": [
      "1,000\n"
     ]
    }
   ],
   "source": [
    "#remove unwanted text from number\n",
    "new_text = element_text.replace('+', '')\n",
    "print(new_text)"
   ]
  },
  {
   "cell_type": "code",
   "execution_count": 50,
   "id": "e5d6244d-e28f-45f9-808b-10d3ed8b4b4c",
   "metadata": {},
   "outputs": [
    {
     "data": {
      "text/plain": [
       "str"
      ]
     },
     "execution_count": 50,
     "metadata": {},
     "output_type": "execute_result"
    }
   ],
   "source": [
    "type(new_text)"
   ]
  },
  {
   "cell_type": "code",
   "execution_count": 51,
   "id": "a91242ee-b556-4013-9dfd-3a653e473336",
   "metadata": {},
   "outputs": [],
   "source": [
    "new_text = \"1,000\"\n",
    "new_text = new_text.replace(\",\", \"\")  # remove comma\n",
    "n = pd.to_numeric(new_text)"
   ]
  },
  {
   "cell_type": "code",
   "execution_count": 52,
   "id": "d0d720a1-9de3-4cf5-bb1e-d16fa749d11b",
   "metadata": {},
   "outputs": [],
   "source": [
    "#Loop to scroll through all jobs and click on see more jobs button for infinite scrolling\n",
    "\n",
    "i = 2\n",
    "while i <= 16: \n",
    "    driver.execute_script(\"window.scrollTo(0, document.body.scrollHeight);\")\n",
    "    i = i + 1\n",
    "    \n",
    "    try:\n",
    "        send=driver.find_element_by_xpath(\"//button[@aria-label='Load more results']\")\n",
    "        driver.execute_script(\"arguments[0].click();\", send)   \n",
    "        time.sleep(3)\n",
    "            \n",
    "    except:\n",
    "        pass\n",
    "        time.sleep(5)"
   ]
  },
  {
   "cell_type": "code",
   "execution_count": 53,
   "id": "ec503514-2766-43e0-8d7e-f92de88fec48",
   "metadata": {},
   "outputs": [],
   "source": [
    "#Create empty lists for company name and job title\n",
    "\n",
    "companyname= []\n",
    "titlename= []\n",
    "locationname= []"
   ]
  },
  {
   "cell_type": "code",
   "execution_count": 54,
   "id": "90eadbc7-cf30-4907-a804-fdebb04a8422",
   "metadata": {},
   "outputs": [],
   "source": [
    "#Find company name and append it to the blank list\n",
    "try:\n",
    "    companies = driver.find_elements(By.CLASS_NAME, 'base-search-card__subtitle')\n",
    "    for company in companies[:n]:\n",
    "        companyname.append(company.text)\n",
    "except IndexError:\n",
    "    print(\"no\")"
   ]
  },
  {
   "cell_type": "code",
   "execution_count": 55,
   "id": "5bb3f71b-a9d6-41c2-81cf-4e007af21ac4",
   "metadata": {},
   "outputs": [
    {
     "data": {
      "text/plain": [
       "175"
      ]
     },
     "execution_count": 55,
     "metadata": {},
     "output_type": "execute_result"
    }
   ],
   "source": [
    "len(companyname)"
   ]
  },
  {
   "cell_type": "code",
   "execution_count": 56,
   "id": "a9e5b1f8-eaa8-417c-aa9b-a8766934e9d9",
   "metadata": {},
   "outputs": [
    {
     "data": {
      "text/plain": [
       "['Alcon',\n",
       " 'CUR8',\n",
       " 'ChargePoint',\n",
       " 'Awign',\n",
       " 'Info Origin Inc.',\n",
       " 'BLITZPOKER',\n",
       " 'Alcon',\n",
       " 'UST',\n",
       " 'UST',\n",
       " 'Live Connections',\n",
       " 'Shrenzo Career Pvt Ltd',\n",
       " 'Renesan Software',\n",
       " 'Ford Motor Company',\n",
       " 'Ingersoll Rand',\n",
       " 'Renesan Software',\n",
       " 'Ingersoll Rand',\n",
       " 'Team 4 Progress Technologies',\n",
       " 'EJT GROUP',\n",
       " 'ResMed',\n",
       " 'Infogain',\n",
       " 'Mastercard',\n",
       " 'Reveille Technologies,Inc',\n",
       " 'Tekskills Inc.',\n",
       " 'Tanishi Consultants Pvt. Ltd.',\n",
       " 'Pixeldust Technologies',\n",
       " 'Attrillion Services Private Limited',\n",
       " 'D Square Consulting Services Pvt Ltd',\n",
       " 'Eagletfly Solutions',\n",
       " 'Idam Infrastructure Advisory Pvt. Ltd.',\n",
       " 'Spiralogics, Inc.',\n",
       " 'Attrillion Services Private Limited',\n",
       " 'Tanishi Consultants Pvt. Ltd.',\n",
       " 'Lexmark',\n",
       " 'Ozonetel Communications',\n",
       " 'Sharp Brains',\n",
       " 'Attrillion Services Private Limited',\n",
       " 'Equabli, Inc',\n",
       " 'Encora Inc.',\n",
       " 'Career Joy',\n",
       " 'AstraZeneca',\n",
       " 'AstraZeneca',\n",
       " 'AstraZeneca',\n",
       " 'AstraZeneca',\n",
       " 'TekIT Software Solutions LLC',\n",
       " 'Principal Global Services',\n",
       " 'Hiring Prism',\n",
       " 'Bhavyansh Infotech India Pvt. Ltd.',\n",
       " 'Cloud Kinetics',\n",
       " 'VN2 Solutions Pvt. Ltd.',\n",
       " 'Aspyra HR',\n",
       " 'VARITE INC',\n",
       " 'NR Consulting',\n",
       " 'Genpact',\n",
       " 'Tekskills Inc.',\n",
       " 'XtraNet Technologies Private Limited',\n",
       " 'Siemens Healthineers',\n",
       " 'TransOrg Analytics',\n",
       " 'DATAECONOMY',\n",
       " 'Aker Solutions',\n",
       " 'Siemens Healthineers',\n",
       " 'BNP Paribas',\n",
       " 'Orcapod Consulting Services Pvt. Ltd.',\n",
       " 'Honeywell',\n",
       " 'Kyndryl India',\n",
       " 'EVRY India',\n",
       " 'Dun & Bradstreet',\n",
       " 'Randstad India Pvt Ltd',\n",
       " 'NICE',\n",
       " 'Optum',\n",
       " 'Nisum',\n",
       " 'Nutanix',\n",
       " 'Multi Recruit',\n",
       " 'JAI AMBEE',\n",
       " 'Trimplin Group',\n",
       " 'Rabi Solutions',\n",
       " 'NTT Ltd.',\n",
       " 'Honeywell',\n",
       " 'Y&L Consulting, Inc.',\n",
       " 'Jubilant Ingrevia Limited',\n",
       " 'SCREATIVES SOFTWARE SERVICES PVT. LTD',\n",
       " 'Webunity Infotech',\n",
       " 'American Express',\n",
       " 'GlobalLogic Technologies Pvt Ltd',\n",
       " 'Kukulkan Mangement Services',\n",
       " 'Yum! Digital & Tech India',\n",
       " 'Quikr',\n",
       " 'Hyland',\n",
       " 'Programware Pvt Ltd',\n",
       " 'Information Technology Centre',\n",
       " 'Siemens Healthineers',\n",
       " 'Growel Softech Limited, Pune',\n",
       " 'ContactPoint 360',\n",
       " 'AGS CONSULTANTS',\n",
       " 'DynPro Inc.',\n",
       " 'Tekki Web Solutions Pvt. Ltd.',\n",
       " 'Live Connections',\n",
       " 'Forbes Marshall',\n",
       " 'Synopsys Inc',\n",
       " 'Autoone Engineering Services Pvt Ltd',\n",
       " 'ADD PEARLINFO PVT. LTD.',\n",
       " 'Bread Financial',\n",
       " 'CGI',\n",
       " 'StackNexus, Inc.',\n",
       " 'Team 4 Progress Technologies',\n",
       " 'Peepal Consulting',\n",
       " 'ADD PEARLINFO PVT. LTD.',\n",
       " 'Wipro',\n",
       " 'Kool Koders',\n",
       " 'Primus Software Corporation',\n",
       " 'CA-One Tech Cloud Inc',\n",
       " 'Apidel Technologies',\n",
       " 'Kloudrac Group',\n",
       " 'QUISCON BIOTECH',\n",
       " 'QUISCON BIOTECH',\n",
       " 'VEGA Intellisoft Private Limited',\n",
       " 'SCS Tech India Pvt Ltd',\n",
       " 'Apidel Technologies',\n",
       " 'Knowledge Synonyms',\n",
       " 'Kadel Labs',\n",
       " 'LTIMindtree',\n",
       " 'Avestan Technologies LLC',\n",
       " 'ATMECS Global Inc',\n",
       " 'SSS IT Solutions',\n",
       " 'engineersmind',\n",
       " 'QUISCON BIOTECH',\n",
       " 'VEGA Intellisoft Private Limited',\n",
       " 'VOCO Technologies',\n",
       " 'SWIRL®',\n",
       " 'SAPPHIRE MANAGEMENT CONSULTANCY LIMITED',\n",
       " 'ITC Infotech',\n",
       " 'Propel Technology Group Inc',\n",
       " 'QUISCON BIOTECH',\n",
       " 'Pattern®',\n",
       " 'Services Mantra',\n",
       " 'Hyring.com',\n",
       " 'Libsys Inc',\n",
       " 'Hyland',\n",
       " 'VEGA Intellisoft Private Limited',\n",
       " 'Hyring.com',\n",
       " 'QUISCON BIOTECH',\n",
       " 'Siemens Healthineers',\n",
       " 'Strats360 Technolabs LLP',\n",
       " 'Apidel Technologies',\n",
       " 'Societe Generale Global Solution Centre',\n",
       " 'FossGen Technologies',\n",
       " 'Persistent Systems',\n",
       " 'DIATOZ: Digital A to Z Solutions',\n",
       " 'SITA',\n",
       " 'Hyland',\n",
       " 'Analytics Saves at Work',\n",
       " 'Analytics Saves at Work',\n",
       " 'SPC Services [MSPC Services Pvt Ltd]',\n",
       " 'Webunity Infotech',\n",
       " 'Angel Global Technology',\n",
       " 'American Express',\n",
       " 'Parkhya Solutions Pvt. Ltd.',\n",
       " 'Pacific Consulting',\n",
       " 'Luxoft India',\n",
       " 'NTT Ltd.',\n",
       " 'sayeishaa mep and arch solution pvt. ltd.',\n",
       " 'Kloudrac Group',\n",
       " 'Deloitte Asia Pacific',\n",
       " 'eSolutionsFirst',\n",
       " 'PamTen Inc',\n",
       " 'Pentagon Consultancy Services',\n",
       " 'TIGI HR ®',\n",
       " 'Aegis Softtech',\n",
       " 'TIGI HR ®',\n",
       " 'SWI - Innovation Delivered',\n",
       " 'Accenture in India',\n",
       " 'Right Move Staffing Solutions Private Limited',\n",
       " 'CHKOKKO',\n",
       " 'McCormick & Company',\n",
       " 'Mobile Programming LLC',\n",
       " 'Vicharak']"
      ]
     },
     "execution_count": 56,
     "metadata": {},
     "output_type": "execute_result"
    }
   ],
   "source": [
    "companyname"
   ]
  },
  {
   "cell_type": "code",
   "execution_count": 57,
   "id": "5a431860-071e-4052-9ca0-0abc1864df68",
   "metadata": {},
   "outputs": [],
   "source": [
    "#Find the job title name and append it to the blank list\n",
    "\n",
    "try:\n",
    "    title = driver.find_elements(By.CLASS_NAME, 'base-search-card__title')\n",
    "    for title in title[:n]:\n",
    "        titlename.append(title.text)\n",
    "except IndexError:\n",
    "    print(\"no\")"
   ]
  },
  {
   "cell_type": "code",
   "execution_count": 58,
   "id": "b9dfc63a-fc6f-4b32-9ca4-eaab02d5b9c6",
   "metadata": {},
   "outputs": [
    {
     "data": {
      "text/plain": [
       "175"
      ]
     },
     "execution_count": 58,
     "metadata": {},
     "output_type": "execute_result"
    }
   ],
   "source": [
    "len(titlename)"
   ]
  },
  {
   "cell_type": "code",
   "execution_count": 59,
   "id": "43e73fc1-b163-42c7-aab5-5aefc7d5c9dc",
   "metadata": {},
   "outputs": [],
   "source": [
    "#Find job location and append it to the blank list\n",
    "try:\n",
    "    location = driver.find_elements(By.CLASS_NAME, 'job-search-card__location')\n",
    "    for location in location[:n]:\n",
    "       locationname.append(location.text)\n",
    "except IndexError:\n",
    "    print(\"no\")"
   ]
  },
  {
   "cell_type": "code",
   "execution_count": null,
   "id": "c652e787-176f-46ac-aaf1-9da1e16d9d5f",
   "metadata": {},
   "outputs": [],
   "source": [
    "#Create dataframe for company name, job title and location\n",
    "\n",
    "companyfinal=pd.DataFrame(companyname,columns=[\"company\"])\n",
    "titlefinal=pd.DataFrame(titlename,columns=[\"title\"])\n",
    "locationfinal=pd.DataFrame(locationname,columns=['location']"
   ]
  },
  {
   "cell_type": "code",
   "execution_count": 61,
   "id": "1f1d73db-b0aa-4c35-b93f-4a0de8c532d9",
   "metadata": {},
   "outputs": [
    {
     "data": {
      "text/plain": [
       "175"
      ]
     },
     "execution_count": 61,
     "metadata": {},
     "output_type": "execute_result"
    }
   ],
   "source": [
    "len(locationname)"
   ]
  },
  {
   "cell_type": "code",
   "execution_count": 63,
   "id": "d2d46a40-b699-443d-bc17-142238c1c3af",
   "metadata": {},
   "outputs": [],
   "source": [
    "#Create dataframe for company name, job title and location\n",
    "col =[\"Company Name\", \"Job Title\", \"Location Title\"]\n",
    "df=pd.DataFrame({\"Company Name\":companyname,\"Job Title\":titlename,\"Location Title\":locationname})"
   ]
  },
  {
   "cell_type": "code",
   "execution_count": 64,
   "id": "2f9ce1c8-3ed2-4baa-9b01-846c1c01e6cb",
   "metadata": {},
   "outputs": [
    {
     "data": {
      "text/html": [
       "<div>\n",
       "<style scoped>\n",
       "    .dataframe tbody tr th:only-of-type {\n",
       "        vertical-align: middle;\n",
       "    }\n",
       "\n",
       "    .dataframe tbody tr th {\n",
       "        vertical-align: top;\n",
       "    }\n",
       "\n",
       "    .dataframe thead th {\n",
       "        text-align: right;\n",
       "    }\n",
       "</style>\n",
       "<table border=\"1\" class=\"dataframe\">\n",
       "  <thead>\n",
       "    <tr style=\"text-align: right;\">\n",
       "      <th></th>\n",
       "      <th>Company Name</th>\n",
       "      <th>Job Title</th>\n",
       "      <th>Location Title</th>\n",
       "    </tr>\n",
       "  </thead>\n",
       "  <tbody>\n",
       "    <tr>\n",
       "      <th>0</th>\n",
       "      <td>Alcon</td>\n",
       "      <td>Data Analyst - RDIT</td>\n",
       "      <td>Bengaluru, Karnataka, India</td>\n",
       "    </tr>\n",
       "    <tr>\n",
       "      <th>1</th>\n",
       "      <td>CUR8</td>\n",
       "      <td>Data Analyst</td>\n",
       "      <td>Gurugram, Haryana, India</td>\n",
       "    </tr>\n",
       "    <tr>\n",
       "      <th>2</th>\n",
       "      <td>ChargePoint</td>\n",
       "      <td>Data Analyst</td>\n",
       "      <td>Gurgaon, Haryana, India</td>\n",
       "    </tr>\n",
       "    <tr>\n",
       "      <th>3</th>\n",
       "      <td>Awign</td>\n",
       "      <td>Data Analyst</td>\n",
       "      <td>Mumbai, Maharashtra, India</td>\n",
       "    </tr>\n",
       "    <tr>\n",
       "      <th>4</th>\n",
       "      <td>Info Origin Inc.</td>\n",
       "      <td>Data Analyst</td>\n",
       "      <td>Bengaluru, Karnataka, India</td>\n",
       "    </tr>\n",
       "  </tbody>\n",
       "</table>\n",
       "</div>"
      ],
      "text/plain": [
       "       Company Name            Job Title               Location Title\n",
       "0             Alcon  Data Analyst - RDIT  Bengaluru, Karnataka, India\n",
       "1              CUR8         Data Analyst     Gurugram, Haryana, India\n",
       "2       ChargePoint         Data Analyst      Gurgaon, Haryana, India\n",
       "3             Awign         Data Analyst   Mumbai, Maharashtra, India\n",
       "4  Info Origin Inc.         Data Analyst  Bengaluru, Karnataka, India"
      ]
     },
     "execution_count": 64,
     "metadata": {},
     "output_type": "execute_result"
    }
   ],
   "source": [
    "df.head()"
   ]
  },
  {
   "cell_type": "code",
   "execution_count": 73,
   "id": "ae07a1fb-9565-4f75-b387-d96b17348b3e",
   "metadata": {},
   "outputs": [],
   "source": [
    "#Save file in your directory\n",
    "df.to_csv(\"LinkedIN_jobs_India.csv\")"
   ]
  },
  {
   "cell_type": "code",
   "execution_count": 71,
   "id": "3555b71b-b3cd-4f85-9bcc-79a946f23fea",
   "metadata": {},
   "outputs": [],
   "source": [
    "#Close the driver\n",
    "\n",
    "driver.close()"
   ]
  },
  {
   "cell_type": "code",
   "execution_count": null,
   "id": "724db24b-be84-4b7d-bc02-80bbdb098bad",
   "metadata": {},
   "outputs": [],
   "source": []
  }
 ],
 "metadata": {
  "kernelspec": {
   "display_name": "Python 3 (ipykernel)",
   "language": "python",
   "name": "python3"
  },
  "language_info": {
   "codemirror_mode": {
    "name": "ipython",
    "version": 3
   },
   "file_extension": ".py",
   "mimetype": "text/x-python",
   "name": "python",
   "nbconvert_exporter": "python",
   "pygments_lexer": "ipython3",
   "version": "3.9.12"
  }
 },
 "nbformat": 4,
 "nbformat_minor": 5
}
